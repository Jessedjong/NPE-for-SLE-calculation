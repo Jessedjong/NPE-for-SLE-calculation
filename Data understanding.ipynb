{
 "cells": [
  {
   "cell_type": "code",
   "execution_count": 2,
   "id": "8fe96244-6d0e-490a-afa1-0c5a6c2c9b5a",
   "metadata": {},
   "outputs": [
    {
     "name": "stderr",
     "output_type": "stream",
     "text": [
      "C:\\Users\\jesse\\AppData\\Local\\Temp\\ipykernel_17448\\2321467457.py:3: DtypeWarning: Columns (1) have mixed types. Specify dtype option on import or set low_memory=False.\n",
      "  asset = pd.read_csv(\"C:/Users/jesse/Downloads/output_ml_students/output_ml_students/backend_asset.csv\")\n"
     ]
    }
   ],
   "source": [
    "import pandas as pd\n",
    "assetrelationship = pd.read_csv(\"C:/Users/jesse/Downloads/output_ml_students/output_ml_students/backend_assetrelationship.csv\")\n",
    "asset = pd.read_csv(\"C:/Users/jesse/Downloads/output_ml_students/output_ml_students/backend_asset.csv\")\n",
    "assettype = pd.read_csv(\"C:/Users/jesse/Downloads/output_ml_students/output_ml_students/backend_assettype.csv\")\n",
    "assetrelationshipservice = pd.read_csv(\"C:/Users/jesse/Downloads/output_ml_students/output_ml_students/backend_assetrelationshipservice.csv\")\n",
    "assetproperty = pd.read_csv(\"C:/Users/jesse/Downloads/output_ml_students/output_ml_students/backend_assetproperty.csv\")\n",
    "assetrelationshipservicemetric = pd.read_csv(\"C:/Users/jesse/Downloads/output_ml_students/output_ml_students/backend_assetrelationshipservicemetric.csv\")\n"
   ]
  },
  {
   "cell_type": "code",
   "execution_count": 3,
   "id": "a83a5c40-1cf6-47f9-a0a4-dc23585dbb3f",
   "metadata": {},
   "outputs": [],
   "source": [
    "# All assettype ids that are OT\n",
    "OT_types = []\n",
    "for i in range(len(assettype[\"id\"])):\n",
    "    if assettype[\"category\"][i] == \"OT\":\n",
    "        OT_types.append(assettype[\"id\"][i])"
   ]
  },
  {
   "cell_type": "code",
   "execution_count": 5,
   "id": "bd90cf8a-6316-4876-b0a8-3e722ca09874",
   "metadata": {},
   "outputs": [
    {
     "data": {
      "text/plain": [
       "52"
      ]
     },
     "execution_count": 5,
     "metadata": {},
     "output_type": "execute_result"
    }
   ],
   "source": [
    "# All OT assets in a list\n",
    "OT_assets_list = []\n",
    "for i in range(len(asset[\"asset_type_id\"])):\n",
    "    if asset[\"asset_type_id\"][i] in OT_types:\n",
    "        OT_assets_list.append(asset[\"id\"][i])\n",
    "len(OT_assets_list)"
   ]
  },
  {
   "cell_type": "code",
   "execution_count": 6,
   "id": "e07f4781-71e0-4eb2-8a40-492b5ab02944",
   "metadata": {
    "scrolled": true
   },
   "outputs": [],
   "source": [
    "# All Ot assets in a dataframe\n",
    "OT_assets = asset[asset[\"id\"].isin(OT_assets_list)]"
   ]
  },
  {
   "cell_type": "code",
   "execution_count": 7,
   "id": "42d14558-1226-4950-ba46-eb8e3e567550",
   "metadata": {
    "scrolled": true
   },
   "outputs": [
    {
     "data": {
      "text/plain": [
       "21"
      ]
     },
     "execution_count": 7,
     "metadata": {},
     "output_type": "execute_result"
    }
   ],
   "source": [
    "# The parents of all OT assets in a list and dataframe\n",
    "OT_parents_list = OT_assets[\"parent_asset_id\"].unique().tolist()[1:]\n",
    "OT_parents = asset[asset[\"id\"].isin(OT_parents_list)]\n",
    "len(OT_parents)"
   ]
  },
  {
   "cell_type": "code",
   "execution_count": 264,
   "id": "d0d62487-b22e-4737-9979-d4a885b854b2",
   "metadata": {
    "scrolled": true
   },
   "outputs": [
    {
     "data": {
      "text/plain": [
       "{'Other': 192,\n",
       " 'Network': 68015,\n",
       " 'OT': 52,\n",
       " 'IT': 270,\n",
       " 'IoT': 33,\n",
       " 'Unspecified': 50563}"
      ]
     },
     "execution_count": 264,
     "metadata": {},
     "output_type": "execute_result"
    }
   ],
   "source": [
    "# Add a column \"asset_type\" to the assets dataframe\n",
    "asset_and_type = asset.merge(assettype[[\"id\",\"category\"]],left_on=\"asset_type_id\",right_on=\"id\",how=\"left\")\n",
    "asset_and_type = asset_and_type.drop(columns=\"id_y\").rename(columns={\"id_x\":\"id\"})\n",
    "asset_and_type[\"category\"] = asset_and_type[\"category\"].fillna(\"Unspecified\")\n",
    "# See how many of each category there is\n",
    "all_categories = asset_and_type[\"category\"].unique().tolist()\n",
    "category_counts = {}\n",
    "for i in all_categories:\n",
    "    category_counts[i] = asset_and_type[\"category\"].value_counts().get(i,0)\n",
    "category_counts"
   ]
  },
  {
   "cell_type": "code",
   "execution_count": 270,
   "id": "aea9f094-2176-4365-aa89-c84d0d33fa60",
   "metadata": {},
   "outputs": [
    {
     "data": {
      "text/plain": [
       "['{2102}',\n",
       " '{120}',\n",
       " '{2101}',\n",
       " '{45}',\n",
       " '{51}',\n",
       " '{2200}',\n",
       " '{49}',\n",
       " '{2103}',\n",
       " '{1001}',\n",
       " '{1007}',\n",
       " '{48}',\n",
       " nan,\n",
       " '{}',\n",
       " '{50}',\n",
       " '{2201}',\n",
       " '{1070}',\n",
       " '{70}']"
      ]
     },
     "execution_count": 270,
     "metadata": {},
     "output_type": "execute_result"
    }
   ],
   "source": [
    "vlan_ids"
   ]
  },
  {
   "cell_type": "code",
   "execution_count": 283,
   "id": "442676bd-19fb-4d8c-a553-c96244ad0241",
   "metadata": {
    "scrolled": true
   },
   "outputs": [
    {
     "data": {
      "text/plain": [
       "9563"
      ]
     },
     "execution_count": 283,
     "metadata": {},
     "output_type": "execute_result"
    }
   ],
   "source": [
    "# Seperate by a few vlan values\n",
    "# vlan = 2102, 45, 51, 70\n",
    "vlan_ids = asset_and_type[\"vlan_ids\"].unique().tolist()\n",
    "asset_vlan_1007 = asset_and_type[asset_and_type[\"vlan_ids\"] == \"{1007}\"]\n",
    "len(asset_vlan_1007)"
   ]
  },
  {
   "cell_type": "code",
   "execution_count": 274,
   "id": "d99e0242-9714-442a-9fb5-e43082da268a",
   "metadata": {},
   "outputs": [
    {
     "data": {
      "text/plain": [
       "['Network']"
      ]
     },
     "execution_count": 274,
     "metadata": {},
     "output_type": "execute_result"
    }
   ],
   "source": [
    "# Get a dataframe with just the asset_id and the category\n",
    "nodes_table_1007 = asset_vlan_1007[[\"id\",\"category\"]]\n",
    "len(nodes_table_1007)\n",
    "nodes_table_1007[\"category\"].unique().tolist()"
   ]
  },
  {
   "cell_type": "code",
   "execution_count": 275,
   "id": "278bf1a4-6d5b-435b-8eb3-f19b4a135798",
   "metadata": {
    "scrolled": true
   },
   "outputs": [],
   "source": [
    "# Find all relationships between vlan = 2102 assets\n",
    "vlan_1007_relationships = assetrelationship[assetrelationship[\"source_asset_id\"].isin(asset_vlan_1007[\"id\"]) & assetrelationship[\"target_asset_id\"].isin(asset_vlan_1007[\"id\"])]\n",
    "# Rename to SOURCE and TARGET node for visualization\n",
    "vlan_1007_relationships = vlan_1007_relationships.rename(columns={\"source_asset_id\":\"SOURCE\",\"target_asset_id\":\"TARGET\"})"
   ]
  },
  {
   "cell_type": "code",
   "execution_count": 276,
   "id": "7fe8385c-d472-487e-a387-66f53f7fa1a1",
   "metadata": {},
   "outputs": [],
   "source": [
    "node_table_map_1007 = dict(zip(nodes_table_1007[\"id\"],nodes_table_1007[\"category\"]))\n",
    "vlan_1007_relationships[\"SOURCE_type\"] = vlan_1007_relationships[\"SOURCE\"].map(node_table_map_1007)\n",
    "vlan_1007_relationships[\"TARGET_type\"] = vlan_1007_relationships[\"TARGET\"].map(node_table_map_1007)"
   ]
  },
  {
   "cell_type": "code",
   "execution_count": 277,
   "id": "a5798937-06e7-4073-8364-54f0f8d0fae8",
   "metadata": {},
   "outputs": [],
   "source": [
    "# Export to excel file\n",
    "vlan_1007_relationships.to_excel(\"vlan_1007.xlsx\",index=False)\n",
    "nodes_table_1007.to_excel(\"nodes_table_1007.xlsx\",index=False)"
   ]
  }
 ],
 "metadata": {
  "kernelspec": {
   "display_name": "Python 3 (ipykernel)",
   "language": "python",
   "name": "python3"
  },
  "language_info": {
   "codemirror_mode": {
    "name": "ipython",
    "version": 3
   },
   "file_extension": ".py",
   "mimetype": "text/x-python",
   "name": "python",
   "nbconvert_exporter": "python",
   "pygments_lexer": "ipython3",
   "version": "3.11.11"
  }
 },
 "nbformat": 4,
 "nbformat_minor": 5
}
